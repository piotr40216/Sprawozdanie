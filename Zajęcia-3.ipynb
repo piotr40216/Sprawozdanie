{
 "cells": [
  {
   "attachments": {
    "uklad.png": {
     "image/png": "[encoded data removed]"
    }
   },
   "cell_type": "markdown",
   "metadata": {},
   "source": [
    "# Zadanie \"Wyznaczenie prądów\"\n",
    "\n",
    "Naszym zadaniem było przeanalizowanie podanego przez prowadzącego układu elektrycznego składającego się z źródła prądowego i 5 rezystrów. Schemat elektryczny jest widoczny poniżej.\n",
    "Znając wartości rezystancji oraz ograniczenia prądowe rezystorów mieliśmy wyznaczyć maksymalną wartość prądu źródła, która nie uszkodzi rezystorów. \n",
    "Do rozwiązywania tego problemu wykorzystaliśmy metodę programowania liniowego w celu maksymalizacji zmiennej \"Prąd\" dla każego z rezystorów.\n",
    "\n",
    "![uklad.png](attachment:uklad.png)\n"
   ]
  },
  {
   "cell_type": "code",
   "execution_count": 5,
   "metadata": {
    "colab": {},
    "colab_type": "code",
    "id": "OSVroZlWqoS2",
    "outputId": "3db585dd-e833-44f2-fb3f-d48013efab4f"
   },
   "outputs": [
    {
     "name": "stdout",
     "output_type": "stream",
     "text": [
      "Status: Optimal\n",
      "Prąd_R1 = 1.5428571 A\n",
      "Prąd_R2 = 2.0571429 A\n",
      "Prąd_R3 = 3.6 A\n",
      "Prąd_R4 = 1.6 A\n",
      "Prąd_R5 = 2.0 A\n",
      "Prąd_źródła = 3.6 A\n",
      "\n",
      "Największy bezpieczny prąd zasilania źródła: 3.6 A\n"
     ]
    }
   ],
   "source": [
    "# Rozwiązanie problemu.\n",
    "\n",
    "# Import bibliotek używanych do rozwiązania problemu.\n",
    "from pulp import *\n",
    "import pandas as pd\n",
    "\n",
    "# Tworzenie problemu i jego maksymalizacja.\n",
    "prob = LpProblem(\"Maksymalny prąd\",LpMaximize)\n",
    "\n",
    "# Zmienna decyzyjna.\n",
    "zrodlo = LpVariable(\"Prąd_źródła\",0)\n",
    "\n",
    "# Pomocnicze zmienne rezystorów.\n",
    "rez = {}\n",
    "for i in range(1,6):\n",
    "    rez[f\"R{i}\"]=LpVariable(f\"Prąd_R{i}\",0)\n",
    "\n",
    "# Obliczanie prądów na poszczególnych rezystorach.\n",
    "# Wykorzytaliśmy wzory wyznaczone na podstawie praw elektrotechniki .\n",
    "prob += rez[\"R1\"] + rez[\"R2\"]\n",
    "prob += zrodlo * 6/14 == rez[\"R1\"], \"Prąd_R1\"\n",
    "prob += zrodlo * 8/14 == rez[\"R2\"], \"Prąd_R2\"\n",
    "prob += rez[\"R1\"] + rez[\"R2\"] == rez[\"R3\"], \"Prąd_R3\"\n",
    "prob += rez[\"R3\"] * 8/18 == rez[\"R4\"], \"Prąd_R4\"\n",
    "prob += rez[\"R3\"] * 10/18 == rez[\"R5\"], \"Prąd_R5\"\n",
    "\n",
    "# Ograniczenia maksymalnego prądu na rezystorach.\n",
    "ogr = [2,3,4,2,2] # Ograniczenie kolejnych rezystorów.\n",
    "for i in range(len(ogr)):\n",
    "    prob += rez[f\"R{i+1}\"] <= ogr[i]\n",
    "    \n",
    "# Rozwiązywanie problemu.\n",
    "prob.solve()\n",
    "# Zwraca status rozwiązania.\n",
    "print(\"Status:\", LpStatus[prob.status])\n",
    "\n",
    "# Wypisanie maksymalnych prądów, które przepuszczają rezystory.\n",
    "for v in prob.variables():\n",
    "    print(v.name, \"=\", v.varValue,\"A\")\n",
    "print(\"\\nNajwiększy bezpieczny prąd zasilania źródła: {} A\".format(value(prob.objective)))\n"
   ]
  },
  {
   "cell_type": "code",
   "execution_count": null,
   "metadata": {},
   "outputs": [],
   "source": []
  }
 ],
 "metadata": {
  "colab": {
   "collapsed_sections": [],
   "name": "Zajęcia-3.ipynb",
   "provenance": []
  },
  "kernelspec": {
   "display_name": "Python 3",
   "language": "python",
   "name": "python3"
  },
  "language_info": {
   "codemirror_mode": {
    "name": "ipython",
    "version": 3
   },
   "file_extension": ".py",
   "mimetype": "text/x-python",
   "name": "python",
   "nbconvert_exporter": "python",
   "pygments_lexer": "ipython3",
   "version": "3.8.0"
  }
 },
 "nbformat": 4,
 "nbformat_minor": 1
}
