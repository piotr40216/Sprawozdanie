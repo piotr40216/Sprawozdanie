{
 "cells": [
  {
   "cell_type": "markdown",
   "metadata": {},
   "source": [
    "# Zadanie \"Numer telefonu\"\n",
    "\n",
    "Naszym zadaniem było stworzenie programu, który po podaniu stacjonarnego numeru telefonu( 9 liczb w tym 2 pierwsze to liczby tzw. kierunkowe) będzie wyświetlał podany numer w postaci liczbowej i słownie, oraz będzie podawał z jakiego miasta on pochodzi."
   ]
  },
  {
   "cell_type": "code",
   "execution_count": 3,
   "metadata": {
    "colab": {
     "base_uri": "https://localhost:8080/",
     "height": 90
    },
    "colab_type": "code",
    "executionInfo": {
     "elapsed": 13900,
     "status": "ok",
     "timestamp": 1575391289743,
     "user": {
      "displayName": "Arek L",
      "photoUrl": "https://lh5.googleusercontent.com/-bW5wiX_x_Mg/AAAAAAAAAAI/AAAAAAAAADo/LB-cv0b88PY/s64/photo.jpg",
      "userId": "06430017991952807028"
     },
     "user_tz": -60
    },
    "id": "rxEK-3A7mFal",
    "outputId": "24787590-7f5c-40aa-89f9-232838a3d3d1"
   },
   "outputs": [
    {
     "name": "stdout",
     "output_type": "stream",
     "text": [
      "Wprowadź numer telefonu: 789456123\n",
      "Podany numer:  789456123\n",
      "siedem osiem dziewięć cztery pięć sześć jeden dwa trzy \n",
      "Brak numeru w bazie!\n"
     ]
    }
   ],
   "source": [
    "# Rozwiązanie problemu.\n",
    "\n",
    "# Tworzenie klasy NumerTelefonu.\n",
    "class NumerTelefonu():\n",
    "\n",
    "    # Tworzneie metody, którą nazywamy konstruktorem.\n",
    "    # Wywoływana jest jako pierwsza podczas inicjalizacji nowego obiektu.\n",
    "    def __init__(self, numer): # \n",
    "            self.number = numer\n",
    "            print(\"Podany numer: \",self.number)\n",
    "    \n",
    "    # Konstruktor, który pozwala na kontrolowanie sposobu wypisywania obiektów naszej klasy.\n",
    "    # Powoduje wypisanie naszego numeru telefonu słownie.\n",
    "    def __repr__(self):\n",
    "        SLOWNIK={\"1\":\"jeden\",\"2\":\"dwa\",\"3\":\"trzy\",\"4\":\"cztery\",\"5\":\"pięć\" \\\n",
    "                 ,\"6\": \"sześć\",\"7\":\"siedem\",\"8\":\"osiem\",\"9\":\"dziewięć\",\"0\":\"zero\"}\n",
    "        cyfry = \"\"\n",
    "        for i in self.number:\n",
    "            if i in SLOWNIK:\n",
    "                cyfry += SLOWNIK[i] + \" \"\n",
    "        return cyfry\n",
    "    \n",
    "    # Tworzenie właściwości klasy, która podaje na podstawie dwóch początkowych cyfr numeru telefonu \n",
    "    # województwo, z którego pochodzi numer telefonu.\n",
    "    @property\n",
    "    def woj(self):\n",
    "        WOJEWODZTWO={\"48\":\"Telefon komórkowy\",\"42\": \"Łódź\" , \"22\": \"Warszawa\"}\n",
    "        znajdz = self.number[:2]\n",
    "        if znajdz in WOJEWODZTWO:\n",
    "            wojewodztwo =\"Numer z: \" + WOJEWODZTWO[znajdz]\n",
    "        else:\n",
    "            wojewodztwo = \"Brak numeru w bazie!\"\n",
    "        return wojewodztwo\n",
    "\n",
    "telefon = input(\"Wprowadź numer telefonu: \") # Program prosi o podanie numeru telefonu.\n",
    "if len(telefon) == 9: \n",
    "    numer1 = NumerTelefonu(telefon) #Sprawdzamy czy numer zawiera 9 znaków oraz dodajemy obiekt do klasy NumerTelefonu.\n",
    "    \n",
    "# Podczas kiedy numer telefonu jest niewłaściwy (nie zawiera 9 znaków),\n",
    "# zastosowany jest blok try, który zamiast przerywac działania programu wyświetla, że podany numer jest niewiłaściwy.\n",
    "try: \n",
    "    print(numer1)\n",
    "    print(numer1.woj)\n",
    "except:\n",
    "    print(\"Niewłaściwy numer telefonu!\")\n",
    "\n",
    "    \n",
    " "
   ]
  },
  {
   "cell_type": "code",
   "execution_count": null,
   "metadata": {},
   "outputs": [],
   "source": []
  }
 ],
 "metadata": {
  "colab": {
   "collapsed_sections": [],
   "name": "Zajęcia-2.ipynb",
   "provenance": []
  },
  "kernelspec": {
   "display_name": "Python 3",
   "language": "python",
   "name": "python3"
  },
  "language_info": {
   "codemirror_mode": {
    "name": "ipython",
    "version": 3
   },
   "file_extension": ".py",
   "mimetype": "text/x-python",
   "name": "python",
   "nbconvert_exporter": "python",
   "pygments_lexer": "ipython3",
   "version": "3.8.0"
  }
 },
 "nbformat": 4,
 "nbformat_minor": 1
}
