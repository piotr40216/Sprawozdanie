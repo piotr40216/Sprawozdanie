{
 "cells": [
  {
   "attachments": {
    "obraz4.png": {
     "image/png": "[encoded data removed]"
    }
   },
   "cell_type": "markdown",
   "metadata": {
    "colab": {},
    "colab_type": "code",
    "id": "s4xZ6r3Bs5XN"
   },
   "source": [
    "# Zadanie \"Scheduling problem\"\n",
    "Naszym zadaniem było rozwiązanie problemu znanego jako \"scheduling problem\". \n",
    "Polega on na znalezieniu takiego rozplanowania godzin pracy pracowników, by minimalizować koszty zatrudnienia ich przez firmę.\n",
    "Jako zmienne wejściowe dostaliśmy imiona pracowników dla których była podana stawka godzinowa i ich dostępność godzinowa. Otrzymaliśmy również ilość godzin do wypracowania przez firmę w ciągu każdego dnia tygodnia.\n",
    "Wymienione dane przedstawia poniższa tabelka.\n",
    "Do rozwiązywania tego problemu wykorzytaliśmy metodę programowania liniowego.\n",
    "\n",
    "\n",
    "\n",
    "![obraz4.png](attachment:obraz4.png)\n",
    "\n"
   ]
  },
  {
   "cell_type": "code",
   "execution_count": 1,
   "metadata": {
    "colab": {},
    "colab_type": "code",
    "id": "-6-dy8MMs5XX",
    "outputId": "b7dbca89-482a-44e7-ef3e-8a4b492509d4"
   },
   "outputs": [
    {
     "name": "stdout",
     "output_type": "stream",
     "text": [
      "Status: Optimal\n",
      " Pon   Wt   Śr  Cz   Pt   Sob   Nd\n",
      "[2.0, 0.0, 0.0, 0.0, 0.0, 0.0, 0.0] Igor\n",
      "[4.0, 0.0, 0.0, 0.0, 0.0, 0.0, 0.0] Marcin\n",
      "[1.0, 0.0, 4.0, 0.0, 2.0, 2.0, 0.0] Franek\n",
      "[0.0, 0.0, 0.0, 0.0, 0.0, 0.0, 0.0] Piotr\n",
      "[0.0, 0.0, 0.0, 4.0, 6.0, 0.0, 0.0] Ania\n",
      "[1.0, 4.0, 0.0, 0.0, 0.0, 0.0, 0.0] Zenon\n",
      "\n",
      "Najniższy koszt utrzymania pracowników 2250.0 zł.  \n"
     ]
    },
    {
     "name": "stderr",
     "output_type": "stream",
     "text": [
      "c:\\users\\msi\\appdata\\local\\programs\\python\\python38-32\\lib\\site-packages\\pulp\\pulp.py:1137: UserWarning: Spaces are not permitted in the name. Converted to '_'\n",
      "  warnings.warn(\"Spaces are not permitted in the name. Converted to '_'\")\n"
     ]
    }
   ],
   "source": [
    "# Rozwiązanie problemu.\n",
    "\n",
    "# Import bibliotek używanych do rozwiązania problemu.\n",
    "from pulp import *\n",
    "import pandas as pd\n",
    "# Tworzenie problemu i jego minimalizacja.\n",
    "prob = LpProblem(\"Scheduling problem\", LpMinimize)\n",
    "\n",
    "# Zmienne związane z problemem.\n",
    "dni = [\"Poniedziałek\", \"Wtorek\", \"Środa\", \"Czwartek\", \"Piątek\", \"Sobota\", \"Niedziela\"]\n",
    "osoby = [\"Igor\", \"Marcin\", \"Franek\", \"Piotr\", \"Ania\", \"Zenon\"]\n",
    "stawka = [170,60,80,200,90,10] # Stawka godzinowa osób.\n",
    "dostepnosc = [4,4,9,8,10,5] # Dostępność godzin osób tygodniowo.\n",
    "godzinyOtwarcia = [8,4,4,4,8,2,0] # Ilość godzin do wypracowania w ciągu każdego dnia.\n",
    "\n",
    "# Tworzenie słownika \"GodzinyPracy\" gdzie kluczami są imiona osób.\n",
    "GodzinyPracy = {}\n",
    "for imie in osoby:\n",
    "    GodzinyPracy[imie] = {}\n",
    "\n",
    "# Tworzenie słownika \"Dostepnosc\", który zawiera jako klucz imiona, a wartościami są godziny dostępności danej osoby.\n",
    "# Stworzenie zagnieżdżonego słownika \"GodzinyPracy\" o dodanie dla każdej osoby dni tygodnia,\n",
    "# dla których wartościami są godziny pracujące. \n",
    "Dostepnosc ={}\n",
    "i = 0\n",
    "for imie in osoby:\n",
    "    Dostepnosc[imie] = LpVariable(\"Godziny_dostepnosci_\" + imie, 0)\n",
    "    prob += Dostepnosc[imie] == dostepnosc[i]\n",
    "    for dzien in dni:\n",
    "        GodzinyPracy[imie][dzien] = LpVariable(\"Godziny_pracujace_\" + imie + \"-\" + dzien, 0)\n",
    "    i +=1\n",
    "\n",
    "# Tworzenie słownika \"GodzinyOtwarcia\", którego kluczami są dni, a wartościami godziny otwarcia w dany dzień.\n",
    "GodzinyOtwarcia ={}\n",
    "i = 0\n",
    "for dzien in dni:\n",
    "    GodzinyOtwarcia[dzien] = LpVariable(\"Godziny_otwarcia_w_\" + dzien, 0)\n",
    "    prob += GodzinyOtwarcia[dzien] == godzinyOtwarcia[i]\n",
    "    suma = 0\n",
    "    for imie in osoby:\n",
    "        suma += GodzinyPracy[imie][dzien] # Sumowanie godzin pracy osób z danego dnia.\n",
    "    prob += suma == GodzinyOtwarcia[dzien]\n",
    "    i +=1\n",
    "\n",
    "# Sumowanie godzin pracy osób z danego dnia oraz dodanie ograniczeń dostępności.              \n",
    "for imie in osoby:\n",
    "    zmienna = 0\n",
    "    for dzien in dni:\n",
    "        zmienna += GodzinyPracy[imie][dzien]\n",
    "    prob += zmienna <= Dostepnosc[imie]\n",
    "\n",
    "\n",
    "zmienna1 = 0\n",
    "zmienna2 = 0\n",
    "# Sumowanie godzin otwarcia z każdego dnia.\n",
    "for dzien in dni:\n",
    "    zmienna1 += GodzinyOtwarcia[dzien]\n",
    "\n",
    "    \n",
    "for dzien in dni:\n",
    "    suma = 0\n",
    "    for imie in osoby:\n",
    "        suma += GodzinyPracy[imie][dzien]\n",
    "    zmienna2 += suma    \n",
    "prob += zmienna1 == zmienna2\n",
    "\n",
    "i = 0\n",
    "pensjaCala = 0\n",
    "for imie in osoby:\n",
    "    for dzien in dni:\n",
    "        pensjaCala += GodzinyPracy[imie][dzien] * stawka[i]\n",
    "    i += 1\n",
    "\n",
    "prob += pensjaCala\n",
    "\n",
    "# Rozwiązywanie problemu.\n",
    "prob.solve()\n",
    "# Wyświetlenie statusu problemu.\n",
    "print(\"Status:\", LpStatus[prob.status])\n",
    "\n",
    "# Tworzenie tabeli na podstawie uzyskanych wyników.\n",
    "slownik = {}\n",
    "for v in prob.variables():\n",
    "        slownik[v.name]=v.varValue\n",
    "\n",
    "tabela =[]\n",
    "tabImie = []\n",
    "print(\"\"\" Pon   Wt   Śr  Cz   Pt   Sob   Nd\"\"\")\n",
    "for imie in osoby:\n",
    "    for dzien in dni:\n",
    "        if f\"Godziny_pracujace_{imie}_{dzien}\" in slownik:\n",
    "            tabela.append(slownik[f\"Godziny_pracujace_{imie}_{dzien}\"])\n",
    "    print(tabela,imie)\n",
    "    tabela = []\n",
    "            \n",
    "# Na podstawie uzyskanych wyników wyświetlenie najniższych kosztów utrzymania pracowników.           \n",
    "\n",
    "print(\"\\nNajniższy koszt utrzymania pracowników {} zł.  \".format( value(prob.objective)))\n"
   ]
  },
  {
   "cell_type": "code",
   "execution_count": null,
   "metadata": {},
   "outputs": [],
   "source": []
  }
 ],
 "metadata": {
  "colab": {
   "collapsed_sections": [],
   "name": "Zajęcia-4.ipynb",
   "provenance": []
  },
  "kernelspec": {
   "display_name": "Python 3",
   "language": "python",
   "name": "python3"
  },
  "language_info": {
   "codemirror_mode": {
    "name": "ipython",
    "version": 3
   },
   "file_extension": ".py",
   "mimetype": "text/x-python",
   "name": "python",
   "nbconvert_exporter": "python",
   "pygments_lexer": "ipython3",
   "version": "3.8.0"
  }
 },
 "nbformat": 4,
 "nbformat_minor": 1
}
